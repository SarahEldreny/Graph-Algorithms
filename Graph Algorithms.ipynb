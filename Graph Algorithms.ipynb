{
 "cells": [
  {
   "cell_type": "markdown",
   "metadata": {},
   "source": [
    "# Stack"
   ]
  },
  {
   "cell_type": "code",
   "execution_count": 8,
   "metadata": {},
   "outputs": [],
   "source": [
    "class Stack :\n",
    "    def __init__(self,size=10):\n",
    "#         self.arr=[0]*10\n",
    "        self.size=10\n",
    "        self.arr=[]\n",
    "        self.count= 0\n",
    "        if size<1 and size!=floor(size):\n",
    "            raise (ValueError(\"the size much be positive number\"))\n",
    "        else:\n",
    "            self.size=size\n",
    "        \n",
    "    def IsEmpty(self):\n",
    "        if len(self.arr) == 0 :\n",
    "#         if self.count == 0 :\n",
    "            return True\n",
    "        else:\n",
    "            return False\n",
    "    \n",
    "    def IsFull(self):\n",
    "        if  len(self.arr)== self.size:\n",
    "            return True\n",
    "        else:\n",
    "            return False\n",
    "    \n",
    "    def Puch(self,item):\n",
    "        if self.IsFull():\n",
    "            return (\"the array is Full\")\n",
    "        else:\n",
    "#             self.arr.append(item)\n",
    "#             self.arr[self.count]=item\n",
    "#             self.count+=1\n",
    "            self.arr.append(item)\n",
    "    \n",
    "        return self.arr\n",
    "    \n",
    "    def Pop(self):\n",
    "        if self.IsEmpty() :\n",
    "            return (\"the array is empty\")\n",
    "        else:\n",
    "#             self.count-=1\n",
    "#             item = self.arr[self.count]\n",
    "#             self.arr[self.count]=0\n",
    "            return self.arr.pop(-1)\n"
   ]
  },
  {
   "cell_type": "code",
   "execution_count": 9,
   "metadata": {},
   "outputs": [
    {
     "name": "stdout",
     "output_type": "stream",
     "text": [
      "[4]\n",
      "[4, 6, 8, 8, 8, 8, 8, 8, 9, 7]\n"
     ]
    },
    {
     "data": {
      "text/plain": [
       "7"
      ]
     },
     "execution_count": 9,
     "metadata": {},
     "output_type": "execute_result"
    }
   ],
   "source": [
    "stack=Stack()\n",
    "print(stack.Puch(4))\n",
    "stack.Puch(6)\n",
    "stack.Puch(8)\n",
    "stack.Puch(8)\n",
    "stack.Puch(8)\n",
    "stack.Puch(8)\n",
    "stack.Puch(8)\n",
    "stack.Puch(8)\n",
    "stack.Puch(9)\n",
    "\n",
    "print(stack.Puch(7))\n",
    "\n",
    "stack.Pop()"
   ]
  },
  {
   "cell_type": "markdown",
   "metadata": {},
   "source": [
    "# Depth First Search (DFS)"
   ]
  },
  {
   "cell_type": "code",
   "execution_count": 10,
   "metadata": {},
   "outputs": [],
   "source": [
    "Graph = {\"a\":[\"b\",\"c\",\"e\"],\n",
    "         \"b\":[\"a\",\"d\"],\n",
    "         \"c\":[\"a\",\"d\",\"e\",\"f\"],\n",
    "         \"d\":[\"b\",\"c\",\"e\"],\n",
    "         \"e\":[\"a\",\"d\",\"c\"],\n",
    "         \"f\":[\"c\"]}"
   ]
  },
  {
   "cell_type": "code",
   "execution_count": 14,
   "metadata": {},
   "outputs": [
    {
     "data": {
      "text/plain": [
       "['a', 'e', 'c', 'f', 'd', 'b']"
      ]
     },
     "execution_count": 14,
     "metadata": {},
     "output_type": "execute_result"
    }
   ],
   "source": [
    "def DFS(Graph ,start, size=10):\n",
    "    \n",
    "    visited=[]\n",
    "    stack=Stack()\n",
    "    stack.Puch(start)\n",
    "\n",
    "    while stack.IsEmpty() == False:\n",
    "#     for key in Graph:\n",
    "        item = stack.Pop()\n",
    "        if item not in visited:\n",
    "            visited.append(item)\n",
    "            x = Graph.get(item)\n",
    "            for i in range(0,len(x)):\n",
    "            #print(x[i])\n",
    "#                 if x[i] not in visited :\n",
    "                    stack.Puch(x[i])\n",
    "    \n",
    "    return visited\n",
    "DFS(Graph,'a')"
   ]
  },
  {
   "cell_type": "code",
   "execution_count": 19,
   "metadata": {},
   "outputs": [
    {
     "name": "stdout",
     "output_type": "stream",
     "text": [
      "['a']\n",
      "['a', 'b']\n",
      "['a', 'b', 'd']\n",
      "['a', 'b', 'd', 'c']\n",
      "['a', 'b', 'd', 'c', 'e']\n",
      "['a', 'b', 'd', 'c', 'e', 'f']\n"
     ]
    }
   ],
   "source": [
    "visited= []\n",
    "def DFS_rec(Graph, start, visited):\n",
    "    visited.append(start)\n",
    "#     print(start, end='')\n",
    "    print(visited)\n",
    "    if start not in Graph:\n",
    "        return\n",
    "    \n",
    "    for i in Graph[start]:\n",
    "        if i not in visited:\n",
    "            DFS_rec(Graph, i , visited)\n",
    "            \n",
    "DFS_rec(Graph, \"a\", visited)"
   ]
  },
  {
   "cell_type": "markdown",
   "metadata": {},
   "source": [
    "# Queue"
   ]
  },
  {
   "cell_type": "code",
   "execution_count": 28,
   "metadata": {},
   "outputs": [],
   "source": [
    "class Queue :\n",
    "    def __init__(self,size=10):\n",
    "#         self.arr=[0]*10\n",
    "        self.size=10\n",
    "        self.arr=[]\n",
    "        self.count= 0\n",
    "        if size<1 and size!=floor(size):\n",
    "            raise (ValueError(\"the size much be positive number\"))\n",
    "        else:\n",
    "            self.size=size\n",
    "        \n",
    "    def IsEmpty(self):\n",
    "        if len(self.arr) == 0 :\n",
    "#         if self.count == 0 :\n",
    "            return True\n",
    "        else:\n",
    "            return False\n",
    "    \n",
    "    def IsFull(self):\n",
    "        if  len(self.arr)==self.size:\n",
    "            return True\n",
    "        else:\n",
    "            return False\n",
    "    \n",
    "    def Puch(self,item):\n",
    "        if self.IsFull():\n",
    "            return (\"the array is Full\")\n",
    "        else:\n",
    "#             self.arr.append(item)\n",
    "#             self.arr[self.count]=item\n",
    "#             self.count+=1\n",
    "            self.arr.append(item)\n",
    "    \n",
    "        return self.arr\n",
    "    \n",
    "    def Pop(self):\n",
    "        if self.IsEmpty():\n",
    "            return (\"the array is empty\")\n",
    "        else:\n",
    "#             self.count-=1\n",
    "#             item = self.arr[self.count]\n",
    "#             self.arr[self.count]=0\n",
    "            return self.arr.pop(0)\n"
   ]
  },
  {
   "cell_type": "code",
   "execution_count": 31,
   "metadata": {},
   "outputs": [
    {
     "name": "stdout",
     "output_type": "stream",
     "text": [
      "[4]\n",
      "[4, 6, 8, 8, 8, 8, 8, 8, 8, 7]\n"
     ]
    },
    {
     "data": {
      "text/plain": [
       "4"
      ]
     },
     "execution_count": 31,
     "metadata": {},
     "output_type": "execute_result"
    }
   ],
   "source": [
    "queue=Queue()\n",
    "print(queue.Puch(4))\n",
    "queue.Puch(6)\n",
    "queue.Puch(8)\n",
    "queue.Puch(8)\n",
    "queue.Puch(8)\n",
    "queue.Puch(8)\n",
    "queue.Puch(8)\n",
    "queue.Puch(8)\n",
    "queue.Puch(8)\n",
    "\n",
    "print(queue.Puch(7))\n",
    "\n",
    "queue.Pop()"
   ]
  },
  {
   "cell_type": "markdown",
   "metadata": {},
   "source": [
    "# Breadth First Search (BFS)"
   ]
  },
  {
   "cell_type": "code",
   "execution_count": 32,
   "metadata": {},
   "outputs": [
    {
     "data": {
      "text/plain": [
       "['a', 'e', 'c', 'f', 'd', 'b']"
      ]
     },
     "execution_count": 32,
     "metadata": {},
     "output_type": "execute_result"
    }
   ],
   "source": [
    "def BFS(Graph ,start, size=10):\n",
    "    \n",
    "    visited=[]\n",
    "    Queue=Queue()\n",
    "    Queue.Puch(start)\n",
    "\n",
    "    while True:\n",
    "#     for key in Graph:\n",
    "        item = Queue.Pop()\n",
    "        if item not in visited:\n",
    "            visited.append(item)\n",
    "            x = Graph.get(item)\n",
    "            for i in range(0,len(x)):\n",
    "            #print(x[i])\n",
    "                if x[i] not in visited :\n",
    "                    Queue.Puch(x[i])\n",
    "    \n",
    "        if Queue.IsEmpty(): \n",
    "            break\n",
    "    return visited\n",
    "DFS(Graph,'a')"
   ]
  },
  {
   "cell_type": "code",
   "execution_count": null,
   "metadata": {},
   "outputs": [],
   "source": []
  }
 ],
 "metadata": {
  "kernelspec": {
   "display_name": "Python 3",
   "language": "python",
   "name": "python3"
  },
  "language_info": {
   "codemirror_mode": {
    "name": "ipython",
    "version": 3
   },
   "file_extension": ".py",
   "mimetype": "text/x-python",
   "name": "python",
   "nbconvert_exporter": "python",
   "pygments_lexer": "ipython3",
   "version": "3.8.5"
  }
 },
 "nbformat": 4,
 "nbformat_minor": 4
}
